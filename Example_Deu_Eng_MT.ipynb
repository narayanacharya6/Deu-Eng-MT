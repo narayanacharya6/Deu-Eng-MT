{
  "nbformat": 4,
  "nbformat_minor": 0,
  "metadata": {
    "colab": {
      "name": "Example-Deu-Eng-MT.ipynb",
      "provenance": [],
      "machine_shape": "hm",
      "authorship_tag": "ABX9TyPIwLm8nsmlEppeT0yj5CIU",
      "include_colab_link": true
    },
    "kernelspec": {
      "name": "python3",
      "display_name": "Python 3"
    },
    "accelerator": "GPU"
  },
  "cells": [
    {
      "cell_type": "markdown",
      "metadata": {
        "id": "view-in-github",
        "colab_type": "text"
      },
      "source": [
        "<a href=\"https://colab.research.google.com/github/narayanacharya6/Deu-Eng-MT/blob/master/Example_Deu_Eng_MT.ipynb\" target=\"_parent\"><img src=\"https://colab.research.google.com/assets/colab-badge.svg\" alt=\"Open In Colab\"/></a>"
      ]
    },
    {
      "cell_type": "markdown",
      "metadata": {
        "id": "II8fnh8yJQGe",
        "colab_type": "text"
      },
      "source": [
        "### Mount Drive"
      ]
    },
    {
      "cell_type": "code",
      "metadata": {
        "id": "Xi-HUw7eHiqs",
        "colab_type": "code",
        "outputId": "fe8bc227-0e6f-4422-d93b-47773e22a2a5",
        "colab": {
          "base_uri": "https://localhost:8080/",
          "height": 122
        }
      },
      "source": [
        "from google.colab import drive\n",
        "drive.mount('/content/drive')"
      ],
      "execution_count": 1,
      "outputs": [
        {
          "output_type": "stream",
          "text": [
            "Go to this URL in a browser: https://accounts.google.com/o/oauth2/auth?client_id=947318989803-6bn6qk8qdgf4n4g3pfee6491hc0brc4i.apps.googleusercontent.com&redirect_uri=urn%3aietf%3awg%3aoauth%3a2.0%3aoob&response_type=code&scope=email%20https%3a%2f%2fwww.googleapis.com%2fauth%2fdocs.test%20https%3a%2f%2fwww.googleapis.com%2fauth%2fdrive%20https%3a%2f%2fwww.googleapis.com%2fauth%2fdrive.photos.readonly%20https%3a%2f%2fwww.googleapis.com%2fauth%2fpeopleapi.readonly\n",
            "\n",
            "Enter your authorization code:\n",
            "··········\n",
            "Mounted at /content/drive\n"
          ],
          "name": "stdout"
        }
      ]
    },
    {
      "cell_type": "code",
      "metadata": {
        "id": "fdWA8_lSH25O",
        "colab_type": "code",
        "outputId": "e5d82ae1-cdfd-48f1-f382-e540994bf6a6",
        "colab": {
          "base_uri": "https://localhost:8080/",
          "height": 34
        }
      },
      "source": [
        "%cd 'drive/My Drive/Projects-Scratchpad/NLP/German-To-English-MT'"
      ],
      "execution_count": 2,
      "outputs": [
        {
          "output_type": "stream",
          "text": [
            "/content/drive/My Drive/Projects-Scratchpad/NLP/German-To-English-MT\n"
          ],
          "name": "stdout"
        }
      ]
    },
    {
      "cell_type": "markdown",
      "metadata": {
        "id": "71B2UOJ1JVz_",
        "colab_type": "text"
      },
      "source": [
        "### Get data if not done already!"
      ]
    },
    {
      "cell_type": "code",
      "metadata": {
        "id": "UUpbgMPFH9Fx",
        "colab_type": "code",
        "colab": {}
      },
      "source": [
        "!mkdir -p data"
      ],
      "execution_count": 0,
      "outputs": []
    },
    {
      "cell_type": "code",
      "metadata": {
        "id": "oO448uWSITAl",
        "colab_type": "code",
        "outputId": "6dcea55a-16cc-4402-837e-0b701eba5892",
        "colab": {
          "base_uri": "https://localhost:8080/",
          "height": 34
        }
      },
      "source": [
        "%cd data"
      ],
      "execution_count": 0,
      "outputs": [
        {
          "output_type": "stream",
          "text": [
            "/content/drive/My Drive/Projects-Scratchpad/NLP/German-To-English-MT/data\n"
          ],
          "name": "stdout"
        }
      ]
    },
    {
      "cell_type": "code",
      "metadata": {
        "id": "4CC9kbQPIgJE",
        "colab_type": "code",
        "outputId": "ee6cbb1b-9f9b-48e6-a944-4df90a286096",
        "colab": {
          "base_uri": "https://localhost:8080/",
          "height": 204
        }
      },
      "source": [
        "!wget http://www.manythings.org/anki/deu-eng.zip"
      ],
      "execution_count": 0,
      "outputs": [
        {
          "output_type": "stream",
          "text": [
            "--2020-02-09 22:47:07--  http://www.manythings.org/anki/deu-eng.zip\n",
            "Resolving www.manythings.org (www.manythings.org)... 104.24.108.196, 104.24.109.196, 2606:4700:3037::6818:6cc4, ...\n",
            "Connecting to www.manythings.org (www.manythings.org)|104.24.108.196|:80... connected.\n",
            "HTTP request sent, awaiting response... 200 OK\n",
            "Length: 7747747 (7.4M) [application/zip]\n",
            "Saving to: ‘deu-eng.zip’\n",
            "\n",
            "deu-eng.zip         100%[===================>]   7.39M  4.47MB/s    in 1.7s    \n",
            "\n",
            "2020-02-09 22:47:09 (4.47 MB/s) - ‘deu-eng.zip’ saved [7747747/7747747]\n",
            "\n"
          ],
          "name": "stdout"
        }
      ]
    },
    {
      "cell_type": "code",
      "metadata": {
        "id": "78ARz-8fJ_Ch",
        "colab_type": "code",
        "outputId": "ccb9014d-a02b-4d08-98b2-3558e5f2d4b4",
        "colab": {
          "base_uri": "https://localhost:8080/",
          "height": 68
        }
      },
      "source": [
        "!unzip deu-eng.zip"
      ],
      "execution_count": 0,
      "outputs": [
        {
          "output_type": "stream",
          "text": [
            "Archive:  deu-eng.zip\n",
            "  inflating: deu.txt                 \n",
            "  inflating: _about.txt              \n"
          ],
          "name": "stdout"
        }
      ]
    },
    {
      "cell_type": "code",
      "metadata": {
        "id": "wLjVyB36Iqhn",
        "colab_type": "code",
        "outputId": "d830b524-e1df-45c8-dd61-25675f362328",
        "colab": {
          "base_uri": "https://localhost:8080/",
          "height": 102
        }
      },
      "source": [
        "!ls -lrt\n",
        "%cd .."
      ],
      "execution_count": 0,
      "outputs": [
        {
          "output_type": "stream",
          "text": [
            "total 38797\n",
            "-rw------- 1 root root  7747747 Jan 11 14:49 deu-eng.zip\n",
            "-rw------- 1 root root 31978057 Jan 11 23:49 deu.txt\n",
            "-rw------- 1 root root     1441 Jan 11 23:49 _about.txt\n",
            "/content/drive/My Drive/Projects-Scratchpad/NLP/German-To-English-MT\n"
          ],
          "name": "stdout"
        }
      ]
    },
    {
      "cell_type": "code",
      "metadata": {
        "id": "NUqn4EIQIyES",
        "colab_type": "code",
        "outputId": "af9ad136-151f-4020-f126-83554f2c8b14",
        "colab": {
          "base_uri": "https://localhost:8080/",
          "height": 68
        }
      },
      "source": [
        "!ls -lrt"
      ],
      "execution_count": 0,
      "outputs": [
        {
          "output_type": "stream",
          "text": [
            "total 8\n",
            "drwxr-xr-x 1 root root 4096 Feb  5 18:37 sample_data\n",
            "drwx------ 4 root root 4096 Feb  9 23:17 drive\n"
          ],
          "name": "stdout"
        }
      ]
    },
    {
      "cell_type": "markdown",
      "metadata": {
        "id": "umjomEBBJfeJ",
        "colab_type": "text"
      },
      "source": [
        "### Upgrade to TensorFlow 2"
      ]
    },
    {
      "cell_type": "code",
      "metadata": {
        "id": "NlpWRqrKQLhC",
        "colab_type": "code",
        "outputId": "a713dd14-6bcb-4f10-8a6e-d422d0ab99a1",
        "colab": {
          "base_uri": "https://localhost:8080/",
          "height": 272
        }
      },
      "source": [
        "!pip uninstall tensorflow"
      ],
      "execution_count": 3,
      "outputs": [
        {
          "output_type": "stream",
          "text": [
            "Uninstalling tensorflow-1.15.0:\n",
            "  Would remove:\n",
            "    /usr/local/bin/estimator_ckpt_converter\n",
            "    /usr/local/bin/freeze_graph\n",
            "    /usr/local/bin/saved_model_cli\n",
            "    /usr/local/bin/tensorboard\n",
            "    /usr/local/bin/tf_upgrade_v2\n",
            "    /usr/local/bin/tflite_convert\n",
            "    /usr/local/bin/toco\n",
            "    /usr/local/bin/toco_from_protos\n",
            "    /usr/local/lib/python3.6/dist-packages/tensorflow-1.15.0.dist-info/*\n",
            "    /usr/local/lib/python3.6/dist-packages/tensorflow/*\n",
            "    /usr/local/lib/python3.6/dist-packages/tensorflow_core/*\n",
            "Proceed (y/n)? y\n",
            "  Successfully uninstalled tensorflow-1.15.0\n"
          ],
          "name": "stdout"
        }
      ]
    },
    {
      "cell_type": "code",
      "metadata": {
        "id": "eeW6hd05QZO9",
        "colab_type": "code",
        "outputId": "ed7f1abc-4c90-43df-a53b-6e83a170a7a5",
        "colab": {
          "base_uri": "https://localhost:8080/",
          "height": 870
        }
      },
      "source": [
        "!pip install tensorflow"
      ],
      "execution_count": 4,
      "outputs": [
        {
          "output_type": "stream",
          "text": [
            "Collecting tensorflow\n",
            "\u001b[?25l  Downloading https://files.pythonhosted.org/packages/85/d4/c0cd1057b331bc38b65478302114194bd8e1b9c2bbc06e300935c0e93d90/tensorflow-2.1.0-cp36-cp36m-manylinux2010_x86_64.whl (421.8MB)\n",
            "\u001b[K     |████████████████████████████████| 421.8MB 42kB/s \n",
            "\u001b[?25hRequirement already satisfied: gast==0.2.2 in /usr/local/lib/python3.6/dist-packages (from tensorflow) (0.2.2)\n",
            "Requirement already satisfied: google-pasta>=0.1.6 in /usr/local/lib/python3.6/dist-packages (from tensorflow) (0.1.8)\n",
            "Requirement already satisfied: protobuf>=3.8.0 in /usr/local/lib/python3.6/dist-packages (from tensorflow) (3.10.0)\n",
            "Requirement already satisfied: six>=1.12.0 in /usr/local/lib/python3.6/dist-packages (from tensorflow) (1.12.0)\n",
            "Requirement already satisfied: absl-py>=0.7.0 in /usr/local/lib/python3.6/dist-packages (from tensorflow) (0.9.0)\n",
            "Requirement already satisfied: keras-preprocessing>=1.1.0 in /usr/local/lib/python3.6/dist-packages (from tensorflow) (1.1.0)\n",
            "Collecting tensorboard<2.2.0,>=2.1.0\n",
            "\u001b[?25l  Downloading https://files.pythonhosted.org/packages/40/23/53ffe290341cd0855d595b0a2e7485932f473798af173bbe3a584b99bb06/tensorboard-2.1.0-py3-none-any.whl (3.8MB)\n",
            "\u001b[K     |████████████████████████████████| 3.8MB 25.7MB/s \n",
            "\u001b[?25hCollecting tensorflow-estimator<2.2.0,>=2.1.0rc0\n",
            "\u001b[?25l  Downloading https://files.pythonhosted.org/packages/18/90/b77c328a1304437ab1310b463e533fa7689f4bfc41549593056d812fab8e/tensorflow_estimator-2.1.0-py2.py3-none-any.whl (448kB)\n",
            "\u001b[K     |████████████████████████████████| 450kB 52.8MB/s \n",
            "\u001b[?25hRequirement already satisfied: wheel>=0.26; python_version >= \"3\" in /usr/local/lib/python3.6/dist-packages (from tensorflow) (0.34.2)\n",
            "Requirement already satisfied: scipy==1.4.1; python_version >= \"3\" in /usr/local/lib/python3.6/dist-packages (from tensorflow) (1.4.1)\n",
            "Requirement already satisfied: numpy<2.0,>=1.16.0 in /usr/local/lib/python3.6/dist-packages (from tensorflow) (1.17.5)\n",
            "Requirement already satisfied: grpcio>=1.8.6 in /usr/local/lib/python3.6/dist-packages (from tensorflow) (1.27.1)\n",
            "Requirement already satisfied: astor>=0.6.0 in /usr/local/lib/python3.6/dist-packages (from tensorflow) (0.8.1)\n",
            "Requirement already satisfied: wrapt>=1.11.1 in /usr/local/lib/python3.6/dist-packages (from tensorflow) (1.11.2)\n",
            "Requirement already satisfied: keras-applications>=1.0.8 in /usr/local/lib/python3.6/dist-packages (from tensorflow) (1.0.8)\n",
            "Requirement already satisfied: opt-einsum>=2.3.2 in /usr/local/lib/python3.6/dist-packages (from tensorflow) (3.1.0)\n",
            "Requirement already satisfied: termcolor>=1.1.0 in /usr/local/lib/python3.6/dist-packages (from tensorflow) (1.1.0)\n",
            "Requirement already satisfied: setuptools in /usr/local/lib/python3.6/dist-packages (from protobuf>=3.8.0->tensorflow) (45.1.0)\n",
            "Requirement already satisfied: requests<3,>=2.21.0 in /usr/local/lib/python3.6/dist-packages (from tensorboard<2.2.0,>=2.1.0->tensorflow) (2.21.0)\n",
            "Requirement already satisfied: google-auth<2,>=1.6.3 in /usr/local/lib/python3.6/dist-packages (from tensorboard<2.2.0,>=2.1.0->tensorflow) (1.7.2)\n",
            "Requirement already satisfied: google-auth-oauthlib<0.5,>=0.4.1 in /usr/local/lib/python3.6/dist-packages (from tensorboard<2.2.0,>=2.1.0->tensorflow) (0.4.1)\n",
            "Requirement already satisfied: markdown>=2.6.8 in /usr/local/lib/python3.6/dist-packages (from tensorboard<2.2.0,>=2.1.0->tensorflow) (3.2.1)\n",
            "Requirement already satisfied: werkzeug>=0.11.15 in /usr/local/lib/python3.6/dist-packages (from tensorboard<2.2.0,>=2.1.0->tensorflow) (1.0.0)\n",
            "Requirement already satisfied: h5py in /usr/local/lib/python3.6/dist-packages (from keras-applications>=1.0.8->tensorflow) (2.8.0)\n",
            "Requirement already satisfied: certifi>=2017.4.17 in /usr/local/lib/python3.6/dist-packages (from requests<3,>=2.21.0->tensorboard<2.2.0,>=2.1.0->tensorflow) (2019.11.28)\n",
            "Requirement already satisfied: urllib3<1.25,>=1.21.1 in /usr/local/lib/python3.6/dist-packages (from requests<3,>=2.21.0->tensorboard<2.2.0,>=2.1.0->tensorflow) (1.24.3)\n",
            "Requirement already satisfied: chardet<3.1.0,>=3.0.2 in /usr/local/lib/python3.6/dist-packages (from requests<3,>=2.21.0->tensorboard<2.2.0,>=2.1.0->tensorflow) (3.0.4)\n",
            "Requirement already satisfied: idna<2.9,>=2.5 in /usr/local/lib/python3.6/dist-packages (from requests<3,>=2.21.0->tensorboard<2.2.0,>=2.1.0->tensorflow) (2.8)\n",
            "Requirement already satisfied: rsa<4.1,>=3.1.4 in /usr/local/lib/python3.6/dist-packages (from google-auth<2,>=1.6.3->tensorboard<2.2.0,>=2.1.0->tensorflow) (4.0)\n",
            "Requirement already satisfied: cachetools<3.2,>=2.0.0 in /usr/local/lib/python3.6/dist-packages (from google-auth<2,>=1.6.3->tensorboard<2.2.0,>=2.1.0->tensorflow) (3.1.1)\n",
            "Requirement already satisfied: pyasn1-modules>=0.2.1 in /usr/local/lib/python3.6/dist-packages (from google-auth<2,>=1.6.3->tensorboard<2.2.0,>=2.1.0->tensorflow) (0.2.8)\n",
            "Requirement already satisfied: requests-oauthlib>=0.7.0 in /usr/local/lib/python3.6/dist-packages (from google-auth-oauthlib<0.5,>=0.4.1->tensorboard<2.2.0,>=2.1.0->tensorflow) (1.3.0)\n",
            "Requirement already satisfied: pyasn1>=0.1.3 in /usr/local/lib/python3.6/dist-packages (from rsa<4.1,>=3.1.4->google-auth<2,>=1.6.3->tensorboard<2.2.0,>=2.1.0->tensorflow) (0.4.8)\n",
            "Requirement already satisfied: oauthlib>=3.0.0 in /usr/local/lib/python3.6/dist-packages (from requests-oauthlib>=0.7.0->google-auth-oauthlib<0.5,>=0.4.1->tensorboard<2.2.0,>=2.1.0->tensorflow) (3.1.0)\n",
            "Installing collected packages: tensorboard, tensorflow-estimator, tensorflow\n",
            "  Found existing installation: tensorboard 1.15.0\n",
            "    Uninstalling tensorboard-1.15.0:\n",
            "      Successfully uninstalled tensorboard-1.15.0\n",
            "  Found existing installation: tensorflow-estimator 1.15.1\n",
            "    Uninstalling tensorflow-estimator-1.15.1:\n",
            "      Successfully uninstalled tensorflow-estimator-1.15.1\n",
            "Successfully installed tensorboard-2.1.0 tensorflow-2.1.0 tensorflow-estimator-2.1.0\n"
          ],
          "name": "stdout"
        }
      ]
    },
    {
      "cell_type": "markdown",
      "metadata": {
        "id": "FsGw64hWRLKz",
        "colab_type": "text"
      },
      "source": [
        "### Lets get started!"
      ]
    },
    {
      "cell_type": "code",
      "metadata": {
        "id": "G8HpKb6OJiy_",
        "colab_type": "code",
        "outputId": "e05c9473-2258-4a71-c3df-9d3f650da27d",
        "colab": {
          "base_uri": "https://localhost:8080/",
          "height": 34
        }
      },
      "source": [
        "import string\n",
        "import re\n",
        "from numpy import array, argmax, random, take\n",
        "import pandas as pd\n",
        "import tensorflow as tf\n",
        "\n",
        "from tensorflow.keras.models import Sequential\n",
        "from tensorflow.keras.layers import Dense, LSTM, Embedding, RepeatVector\n",
        "from tensorflow.keras.preprocessing.text import Tokenizer\n",
        "from tensorflow.keras.callbacks import ModelCheckpoint\n",
        "from tensorflow.keras.preprocessing.sequence import pad_sequences\n",
        "from tensorflow.keras.models import load_model\n",
        "from tensorflow.keras import optimizers\n",
        "import matplotlib.pyplot as plt\n",
        "\n",
        "print(tf.__version__)\n",
        "\n",
        "%matplotlib inline\n",
        "pd.set_option('display.max_colwidth', 200)"
      ],
      "execution_count": 5,
      "outputs": [
        {
          "output_type": "stream",
          "text": [
            "2.1.0\n"
          ],
          "name": "stdout"
        }
      ]
    },
    {
      "cell_type": "code",
      "metadata": {
        "id": "ILbnHgwgJpyH",
        "colab_type": "code",
        "colab": {}
      },
      "source": [
        "# function to read raw text file\n",
        "def read_text(filename):\n",
        "  # open the file\n",
        "  file = open(filename, mode='rt', encoding='utf-8')\n",
        "\n",
        "  # read all text\n",
        "  text = file.read()\n",
        "  file.close()\n",
        "  return text\n",
        "\n",
        "# split a text into sentences\n",
        "def to_lines(text):\n",
        "  sents = text.strip().split('\\n')\n",
        "  sents = [i.split('\\t') for i in sents]\n",
        "  return sents"
      ],
      "execution_count": 0,
      "outputs": []
    },
    {
      "cell_type": "code",
      "metadata": {
        "id": "QubMyF0RJ2ty",
        "colab_type": "code",
        "colab": {}
      },
      "source": [
        "data = read_text(\"data/deu.txt\")\n",
        "deu_eng = to_lines(data)\n",
        "deu_eng = array(deu_eng)"
      ],
      "execution_count": 0,
      "outputs": []
    },
    {
      "cell_type": "code",
      "metadata": {
        "id": "2sXaQ7PBKs9P",
        "colab_type": "code",
        "outputId": "17054ff3-17a7-455a-e17d-a5206e13f467",
        "colab": {
          "base_uri": "https://localhost:8080/",
          "height": 326
        }
      },
      "source": [
        "deu_eng"
      ],
      "execution_count": 8,
      "outputs": [
        {
          "output_type": "execute_result",
          "data": {
            "text/plain": [
              "array([['Hi.', 'Hallo!',\n",
              "        'CC-BY 2.0 (France) Attribution: tatoeba.org #538123 (CM) & #380701 (cburgmer)'],\n",
              "       ['Hi.', 'Grüß Gott!',\n",
              "        'CC-BY 2.0 (France) Attribution: tatoeba.org #538123 (CM) & #659813 (Esperantostern)'],\n",
              "       ['Run!', 'Lauf!',\n",
              "        'CC-BY 2.0 (France) Attribution: tatoeba.org #906328 (papabear) & #941078 (Fingerhut)'],\n",
              "       ...,\n",
              "       [\"If someone who doesn't know your background says that you sound like a native speaker, it means they probably noticed something about your speaking that made them realize you weren't a native speaker. In other words, you don't really sound like a native speaker.\",\n",
              "        'Wenn jemand Fremdes dir sagt, dass du dich wie ein Muttersprachler anhörst, bedeutet das wahrscheinlich: Er hat etwas an deinem Sprechen bemerkt, dass dich als Nicht-Muttersprachler verraten hat. Mit anderen Worten: Du hörst dich nicht wirklich wie ein Muttersprachler an.',\n",
              "        'CC-BY 2.0 (France) Attribution: tatoeba.org #953936 (CK) & #3807493 (Tickler)'],\n",
              "       ['It may be impossible to get a completely error-free corpus due to the nature of this kind of collaborative effort. However, if we encourage members to contribute sentences in their own languages rather than experiment in languages they are learning, we might be able to minimize errors.',\n",
              "        'Es ist wohl unmöglich, einen vollkommen fehlerfreien Korpus zu erreichen\\xa0— das liegt in der Natur eines solchen Gemeinschaftsprojekts. Doch wenn wir unsere Mitglieder dazu bringen können, nicht mit Sprachen herumzuexperimentieren, die sie gerade lernen, sondern Sätze in ihrer eigenen Muttersprache beizutragen, dann gelingt es uns vielleicht, die Zahl der Fehler klein zu halten.',\n",
              "        'CC-BY 2.0 (France) Attribution: tatoeba.org #2024159 (CK) & #2174272 (Pfirsichbaeumchen)'],\n",
              "       ['Doubtless there exists in this world precisely the right woman for any given man to marry and vice versa; but when you consider that a human being has the opportunity of being acquainted with only a few hundred people, and out of the few hundred that there are but a dozen or less whom he knows intimately, and out of the dozen, one or two friends at most, it will easily be seen, when we remember the number of millions who inhabit this world, that probably, since the earth was created, the right man has never yet met the right woman.',\n",
              "        'Ohne Zweifel findet sich auf dieser Welt zu jedem Mann genau die richtige Ehefrau und umgekehrt; wenn man jedoch in Betracht zieht, dass ein Mensch nur Gelegenheit hat, mit ein paar hundert anderen bekannt zu sein, von denen ihm nur ein Dutzend oder weniger nahesteht, darunter höchstens ein oder zwei Freunde, dann erahnt man eingedenk der Millionen Einwohner dieser Welt\\xa0leicht, dass seit Erschaffung ebenderselben wohl noch nie der richtige Mann der richtigen Frau begegnet ist.',\n",
              "        'CC-BY 2.0 (France) Attribution: tatoeba.org #7697649 (RM) & #7729416 (Pfirsichbaeumchen)']],\n",
              "      dtype='<U537')"
            ]
          },
          "metadata": {
            "tags": []
          },
          "execution_count": 8
        }
      ]
    },
    {
      "cell_type": "code",
      "metadata": {
        "id": "kIkp5ZBHRaVz",
        "colab_type": "code",
        "colab": {}
      },
      "source": [
        "# Take limited rows depending upon compute!\n",
        "# deu_eng = deu_eng[:50000,:]"
      ],
      "execution_count": 0,
      "outputs": []
    },
    {
      "cell_type": "code",
      "metadata": {
        "id": "TtLmLWyfLJ_Q",
        "colab_type": "code",
        "colab": {}
      },
      "source": [
        "# Remove attribution field\n",
        "deu_eng = deu_eng[:, :2]"
      ],
      "execution_count": 0,
      "outputs": []
    },
    {
      "cell_type": "code",
      "metadata": {
        "id": "MC_I9wLbK1R_",
        "colab_type": "code",
        "outputId": "3314b1ab-abdb-47a4-d541-be2cf1516a75",
        "colab": {
          "base_uri": "https://localhost:8080/",
          "height": 224
        }
      },
      "source": [
        "# Remove punctuation\n",
        "deu_eng[:,0] = [s.translate(str.maketrans('', '', string.punctuation)) for s in deu_eng[:,0]]\n",
        "deu_eng[:,1] = [s.translate(str.maketrans('', '', string.punctuation)) for s in deu_eng[:,1]]\n",
        "\n",
        "deu_eng"
      ],
      "execution_count": 10,
      "outputs": [
        {
          "output_type": "execute_result",
          "data": {
            "text/plain": [
              "array([['Hi', 'Hallo'],\n",
              "       ['Hi', 'Grüß Gott'],\n",
              "       ['Run', 'Lauf'],\n",
              "       ...,\n",
              "       ['If someone who doesnt know your background says that you sound like a native speaker it means they probably noticed something about your speaking that made them realize you werent a native speaker In other words you dont really sound like a native speaker',\n",
              "        'Wenn jemand Fremdes dir sagt dass du dich wie ein Muttersprachler anhörst bedeutet das wahrscheinlich Er hat etwas an deinem Sprechen bemerkt dass dich als NichtMuttersprachler verraten hat Mit anderen Worten Du hörst dich nicht wirklich wie ein Muttersprachler an'],\n",
              "       ['It may be impossible to get a completely errorfree corpus due to the nature of this kind of collaborative effort However if we encourage members to contribute sentences in their own languages rather than experiment in languages they are learning we might be able to minimize errors',\n",
              "        'Es ist wohl unmöglich einen vollkommen fehlerfreien Korpus zu erreichen\\xa0— das liegt in der Natur eines solchen Gemeinschaftsprojekts Doch wenn wir unsere Mitglieder dazu bringen können nicht mit Sprachen herumzuexperimentieren die sie gerade lernen sondern Sätze in ihrer eigenen Muttersprache beizutragen dann gelingt es uns vielleicht die Zahl der Fehler klein zu halten'],\n",
              "       ['Doubtless there exists in this world precisely the right woman for any given man to marry and vice versa but when you consider that a human being has the opportunity of being acquainted with only a few hundred people and out of the few hundred that there are but a dozen or less whom he knows intimately and out of the dozen one or two friends at most it will easily be seen when we remember the number of millions who inhabit this world that probably since the earth was created the right man has never yet met the right woman',\n",
              "        'Ohne Zweifel findet sich auf dieser Welt zu jedem Mann genau die richtige Ehefrau und umgekehrt wenn man jedoch in Betracht zieht dass ein Mensch nur Gelegenheit hat mit ein paar hundert anderen bekannt zu sein von denen ihm nur ein Dutzend oder weniger nahesteht darunter höchstens ein oder zwei Freunde dann erahnt man eingedenk der Millionen Einwohner dieser Welt\\xa0leicht dass seit Erschaffung ebenderselben wohl noch nie der richtige Mann der richtigen Frau begegnet ist']],\n",
              "      dtype='<U537')"
            ]
          },
          "metadata": {
            "tags": []
          },
          "execution_count": 10
        }
      ]
    },
    {
      "cell_type": "code",
      "metadata": {
        "id": "t5qnhxzCLCfK",
        "colab_type": "code",
        "outputId": "0744d90b-42b4-46f5-8c7b-a5a1be615b32",
        "colab": {
          "base_uri": "https://localhost:8080/",
          "height": 224
        }
      },
      "source": [
        "# convert text to lowercase\n",
        "for i in range(len(deu_eng)):\n",
        "    deu_eng[i,0] = deu_eng[i,0].lower()\n",
        "    deu_eng[i,1] = deu_eng[i,1].lower()\n",
        "\n",
        "deu_eng"
      ],
      "execution_count": 11,
      "outputs": [
        {
          "output_type": "execute_result",
          "data": {
            "text/plain": [
              "array([['hi', 'hallo'],\n",
              "       ['hi', 'grüß gott'],\n",
              "       ['run', 'lauf'],\n",
              "       ...,\n",
              "       ['if someone who doesnt know your background says that you sound like a native speaker it means they probably noticed something about your speaking that made them realize you werent a native speaker in other words you dont really sound like a native speaker',\n",
              "        'wenn jemand fremdes dir sagt dass du dich wie ein muttersprachler anhörst bedeutet das wahrscheinlich er hat etwas an deinem sprechen bemerkt dass dich als nichtmuttersprachler verraten hat mit anderen worten du hörst dich nicht wirklich wie ein muttersprachler an'],\n",
              "       ['it may be impossible to get a completely errorfree corpus due to the nature of this kind of collaborative effort however if we encourage members to contribute sentences in their own languages rather than experiment in languages they are learning we might be able to minimize errors',\n",
              "        'es ist wohl unmöglich einen vollkommen fehlerfreien korpus zu erreichen\\xa0— das liegt in der natur eines solchen gemeinschaftsprojekts doch wenn wir unsere mitglieder dazu bringen können nicht mit sprachen herumzuexperimentieren die sie gerade lernen sondern sätze in ihrer eigenen muttersprache beizutragen dann gelingt es uns vielleicht die zahl der fehler klein zu halten'],\n",
              "       ['doubtless there exists in this world precisely the right woman for any given man to marry and vice versa but when you consider that a human being has the opportunity of being acquainted with only a few hundred people and out of the few hundred that there are but a dozen or less whom he knows intimately and out of the dozen one or two friends at most it will easily be seen when we remember the number of millions who inhabit this world that probably since the earth was created the right man has never yet met the right woman',\n",
              "        'ohne zweifel findet sich auf dieser welt zu jedem mann genau die richtige ehefrau und umgekehrt wenn man jedoch in betracht zieht dass ein mensch nur gelegenheit hat mit ein paar hundert anderen bekannt zu sein von denen ihm nur ein dutzend oder weniger nahesteht darunter höchstens ein oder zwei freunde dann erahnt man eingedenk der millionen einwohner dieser welt\\xa0leicht dass seit erschaffung ebenderselben wohl noch nie der richtige mann der richtigen frau begegnet ist']],\n",
              "      dtype='<U537')"
            ]
          },
          "metadata": {
            "tags": []
          },
          "execution_count": 11
        }
      ]
    },
    {
      "cell_type": "code",
      "metadata": {
        "id": "Jz957srbLeP2",
        "colab_type": "code",
        "outputId": "4976f6fd-33fb-4817-ef52-af9532daf1b9",
        "colab": {
          "base_uri": "https://localhost:8080/",
          "height": 281
        }
      },
      "source": [
        "# empty lists\n",
        "eng_l = []\n",
        "deu_l = []\n",
        "\n",
        "# populate the lists with sentence lengths\n",
        "for i in deu_eng[:,0]:\n",
        "      eng_l.append(len(i.split()))\n",
        "\n",
        "for i in deu_eng[:,1]:\n",
        "      deu_l.append(len(i.split()))\n",
        "\n",
        "length_df = pd.DataFrame({'eng':eng_l, 'deu':deu_l})\n",
        "\n",
        "length_df.hist(bins = 30)\n",
        "plt.show()"
      ],
      "execution_count": 12,
      "outputs": [
        {
          "output_type": "display_data",
          "data": {
            "image/png": "[encoded data removed]",
            "text/plain": [
              "<Figure size 432x288 with 2 Axes>"
            ]
          },
          "metadata": {
            "tags": []
          }
        }
      ]
    },
    {
      "cell_type": "code",
      "metadata": {
        "id": "LTEvR_C3Lorh",
        "colab_type": "code",
        "colab": {}
      },
      "source": [
        "# function to build a tokenizer\n",
        "def tokenization(lines):\n",
        "  tokenizer = Tokenizer()\n",
        "  tokenizer.fit_on_texts(lines)\n",
        "  return tokenizer"
      ],
      "execution_count": 0,
      "outputs": []
    },
    {
      "cell_type": "code",
      "metadata": {
        "id": "l8nQSFKgLrvx",
        "colab_type": "code",
        "outputId": "4c48c0b4-ec5a-459c-ec0e-a8e1441900b1",
        "colab": {
          "base_uri": "https://localhost:8080/",
          "height": 34
        }
      },
      "source": [
        "# prepare english tokenizer\n",
        "eng_tokenizer = tokenization(deu_eng[:, 0])\n",
        "eng_vocab_size = len(eng_tokenizer.word_index) + 1\n",
        "\n",
        "eng_length = 8\n",
        "print('English Vocabulary Size: %d' % eng_vocab_size)"
      ],
      "execution_count": 14,
      "outputs": [
        {
          "output_type": "stream",
          "text": [
            "English Vocabulary Size: 16380\n"
          ],
          "name": "stdout"
        }
      ]
    },
    {
      "cell_type": "code",
      "metadata": {
        "id": "df5BKOGMLu3i",
        "colab_type": "code",
        "outputId": "0896e2f0-ad10-47ba-8069-165efd1db8aa",
        "colab": {
          "base_uri": "https://localhost:8080/",
          "height": 34
        }
      },
      "source": [
        "# prepare Deutch tokenizer\n",
        "deu_tokenizer = tokenization(deu_eng[:, 1])\n",
        "deu_vocab_size = len(deu_tokenizer.word_index) + 1\n",
        "\n",
        "deu_length = 8\n",
        "print('Deutch Vocabulary Size: %d' % deu_vocab_size)"
      ],
      "execution_count": 15,
      "outputs": [
        {
          "output_type": "stream",
          "text": [
            "Deutch Vocabulary Size: 35442\n"
          ],
          "name": "stdout"
        }
      ]
    },
    {
      "cell_type": "code",
      "metadata": {
        "id": "XTHO0YvsLzhy",
        "colab_type": "code",
        "colab": {}
      },
      "source": [
        "# encode and pad sequences\n",
        "def encode_sequences(tokenizer, length, lines):\n",
        "  # integer encode sequences\n",
        "  seq = tokenizer.texts_to_sequences(lines)\n",
        "  # pad sequences with 0 values\n",
        "  seq = pad_sequences(seq, maxlen=length, padding='post')\n",
        "  return seq"
      ],
      "execution_count": 0,
      "outputs": []
    },
    {
      "cell_type": "code",
      "metadata": {
        "id": "MrnN3f84L4Bo",
        "colab_type": "code",
        "colab": {}
      },
      "source": [
        "from sklearn.model_selection import train_test_split\n",
        "\n",
        "# split data into train and test set\n",
        "train, test = train_test_split(deu_eng, test_size=0.2, random_state = 12)"
      ],
      "execution_count": 0,
      "outputs": []
    },
    {
      "cell_type": "code",
      "metadata": {
        "id": "5K5jOxBnL8hh",
        "colab_type": "code",
        "colab": {}
      },
      "source": [
        "# prepare training data\n",
        "trainX = encode_sequences(deu_tokenizer, deu_length, train[:, 1])\n",
        "trainY = encode_sequences(eng_tokenizer, eng_length, train[:, 0])\n",
        "\n",
        "# prepare validation data\n",
        "testX = encode_sequences(deu_tokenizer, deu_length, test[:, 1])\n",
        "testY = encode_sequences(eng_tokenizer, eng_length, test[:, 0])"
      ],
      "execution_count": 0,
      "outputs": []
    },
    {
      "cell_type": "code",
      "metadata": {
        "id": "FtnJfHLkMB2h",
        "colab_type": "code",
        "colab": {}
      },
      "source": [
        "# build NMT model\n",
        "def define_model(in_vocab,out_vocab, in_timesteps,out_timesteps,units):\n",
        "  model = Sequential()\n",
        "  model.add(Embedding(in_vocab, units, input_length=in_timesteps, mask_zero=True))\n",
        "  model.add(LSTM(units))\n",
        "  model.add(RepeatVector(out_timesteps))\n",
        "  model.add(LSTM(units, return_sequences=True))\n",
        "  model.add(Dense(out_vocab, activation='softmax'))\n",
        "  return model"
      ],
      "execution_count": 0,
      "outputs": []
    },
    {
      "cell_type": "code",
      "metadata": {
        "id": "ALgD7b8CMF0h",
        "colab_type": "code",
        "colab": {}
      },
      "source": [
        "# model compilation\n",
        "model = define_model(deu_vocab_size, eng_vocab_size, deu_length, eng_length, 512)"
      ],
      "execution_count": 0,
      "outputs": []
    },
    {
      "cell_type": "code",
      "metadata": {
        "id": "mAzHMQ6gMJTq",
        "colab_type": "code",
        "colab": {}
      },
      "source": [
        "rms = optimizers.RMSprop(lr=0.001)\n",
        "model.compile(optimizer=rms, loss='sparse_categorical_crossentropy')"
      ],
      "execution_count": 0,
      "outputs": []
    },
    {
      "cell_type": "code",
      "metadata": {
        "id": "uPAHnZ90MPzl",
        "colab_type": "code",
        "outputId": "15376fd5-7fcf-4592-b077-f98b3d234c72",
        "colab": {
          "base_uri": "https://localhost:8080/",
          "height": 1000
        }
      },
      "source": [
        "filename = 'model.h1.09_02_19.h5'\n",
        "checkpoint = ModelCheckpoint(filename, monitor='val_loss', verbose=1, save_best_only=True, mode='min')\n",
        "\n",
        "# train model\n",
        "history = model.fit(trainX, trainY.reshape(trainY.shape[0], trainY.shape[1], 1),\n",
        "                    epochs=30, batch_size=512, validation_split = 0.2, callbacks=[checkpoint], \n",
        "                    verbose=1)"
      ],
      "execution_count": 22,
      "outputs": [
        {
          "output_type": "stream",
          "text": [
            "Train on 130927 samples, validate on 32732 samples\n",
            "Epoch 1/30\n",
            "130560/130927 [============================>.] - ETA: 0s - loss: 4.8970\n",
            "Epoch 00001: val_loss improved from inf to 4.58372, saving model to model.h1.09_02_19.h5\n",
            "130927/130927 [==============================] - 55s 418us/sample - loss: 4.8961 - val_loss: 4.5837\n",
            "Epoch 2/30\n",
            "130560/130927 [============================>.] - ETA: 0s - loss: 4.2704\n",
            "Epoch 00002: val_loss improved from 4.58372 to 4.05572, saving model to model.h1.09_02_19.h5\n",
            "130927/130927 [==============================] - 42s 318us/sample - loss: 4.2700 - val_loss: 4.0557\n",
            "Epoch 3/30\n",
            "130560/130927 [============================>.] - ETA: 0s - loss: 3.8345\n",
            "Epoch 00003: val_loss improved from 4.05572 to 3.68000, saving model to model.h1.09_02_19.h5\n",
            "130927/130927 [==============================] - 41s 310us/sample - loss: 3.8343 - val_loss: 3.6800\n",
            "Epoch 4/30\n",
            "130560/130927 [============================>.] - ETA: 0s - loss: 3.4429\n",
            "Epoch 00004: val_loss improved from 3.68000 to 3.34554, saving model to model.h1.09_02_19.h5\n",
            "130927/130927 [==============================] - 41s 310us/sample - loss: 3.4423 - val_loss: 3.3455\n",
            "Epoch 5/30\n",
            "130560/130927 [============================>.] - ETA: 0s - loss: 3.0965\n",
            "Epoch 00005: val_loss improved from 3.34554 to 3.07096, saving model to model.h1.09_02_19.h5\n",
            "130927/130927 [==============================] - 39s 299us/sample - loss: 3.0960 - val_loss: 3.0710\n",
            "Epoch 6/30\n",
            "130560/130927 [============================>.] - ETA: 0s - loss: 2.8118\n",
            "Epoch 00006: val_loss improved from 3.07096 to 2.87715, saving model to model.h1.09_02_19.h5\n",
            "130927/130927 [==============================] - 39s 297us/sample - loss: 2.8115 - val_loss: 2.8771\n",
            "Epoch 7/30\n",
            "130560/130927 [============================>.] - ETA: 0s - loss: 2.5756\n",
            "Epoch 00007: val_loss improved from 2.87715 to 2.75266, saving model to model.h1.09_02_19.h5\n",
            "130927/130927 [==============================] - 39s 296us/sample - loss: 2.5756 - val_loss: 2.7527\n",
            "Epoch 8/30\n",
            "130560/130927 [============================>.] - ETA: 0s - loss: 2.3722\n",
            "Epoch 00008: val_loss improved from 2.75266 to 2.61533, saving model to model.h1.09_02_19.h5\n",
            "130927/130927 [==============================] - 39s 296us/sample - loss: 2.3723 - val_loss: 2.6153\n",
            "Epoch 9/30\n",
            "130560/130927 [============================>.] - ETA: 0s - loss: 2.1967\n",
            "Epoch 00009: val_loss improved from 2.61533 to 2.52737, saving model to model.h1.09_02_19.h5\n",
            "130927/130927 [==============================] - 39s 297us/sample - loss: 2.1969 - val_loss: 2.5274\n",
            "Epoch 10/30\n",
            "130560/130927 [============================>.] - ETA: 0s - loss: 2.0431\n",
            "Epoch 00010: val_loss improved from 2.52737 to 2.46538, saving model to model.h1.09_02_19.h5\n",
            "130927/130927 [==============================] - 39s 297us/sample - loss: 2.0437 - val_loss: 2.4654\n",
            "Epoch 11/30\n",
            "130560/130927 [============================>.] - ETA: 0s - loss: 1.9065\n",
            "Epoch 00011: val_loss improved from 2.46538 to 2.41020, saving model to model.h1.09_02_19.h5\n",
            "130927/130927 [==============================] - 39s 297us/sample - loss: 1.9067 - val_loss: 2.4102\n",
            "Epoch 12/30\n",
            "130560/130927 [============================>.] - ETA: 0s - loss: 1.7827\n",
            "Epoch 00012: val_loss improved from 2.41020 to 2.38621, saving model to model.h1.09_02_19.h5\n",
            "130927/130927 [==============================] - 39s 297us/sample - loss: 1.7829 - val_loss: 2.3862\n",
            "Epoch 13/30\n",
            "130560/130927 [============================>.] - ETA: 0s - loss: 1.6655\n",
            "Epoch 00013: val_loss improved from 2.38621 to 2.37194, saving model to model.h1.09_02_19.h5\n",
            "130927/130927 [==============================] - 39s 297us/sample - loss: 1.6655 - val_loss: 2.3719\n",
            "Epoch 14/30\n",
            "130560/130927 [============================>.] - ETA: 0s - loss: 1.5566\n",
            "Epoch 00014: val_loss improved from 2.37194 to 2.36043, saving model to model.h1.09_02_19.h5\n",
            "130927/130927 [==============================] - 39s 298us/sample - loss: 1.5563 - val_loss: 2.3604\n",
            "Epoch 15/30\n",
            "130560/130927 [============================>.] - ETA: 0s - loss: 1.4539\n",
            "Epoch 00015: val_loss improved from 2.36043 to 2.35177, saving model to model.h1.09_02_19.h5\n",
            "130927/130927 [==============================] - 39s 296us/sample - loss: 1.4540 - val_loss: 2.3518\n",
            "Epoch 16/30\n",
            "130560/130927 [============================>.] - ETA: 0s - loss: 1.3581\n",
            "Epoch 00016: val_loss did not improve from 2.35177\n",
            "130927/130927 [==============================] - 38s 288us/sample - loss: 1.3581 - val_loss: 2.3564\n",
            "Epoch 17/30\n",
            "130560/130927 [============================>.] - ETA: 0s - loss: 1.2677\n",
            "Epoch 00017: val_loss did not improve from 2.35177\n",
            "130927/130927 [==============================] - 38s 288us/sample - loss: 1.2680 - val_loss: 2.3634\n",
            "Epoch 18/30\n",
            "130560/130927 [============================>.] - ETA: 0s - loss: 1.1851\n",
            "Epoch 00018: val_loss did not improve from 2.35177\n",
            "130927/130927 [==============================] - 38s 287us/sample - loss: 1.1853 - val_loss: 2.3854\n",
            "Epoch 19/30\n",
            "130560/130927 [============================>.] - ETA: 0s - loss: 1.1061\n",
            "Epoch 00019: val_loss did not improve from 2.35177\n",
            "130927/130927 [==============================] - 37s 286us/sample - loss: 1.1063 - val_loss: 2.3994\n",
            "Epoch 20/30\n",
            "130560/130927 [============================>.] - ETA: 0s - loss: 1.0319\n",
            "Epoch 00020: val_loss did not improve from 2.35177\n",
            "130927/130927 [==============================] - 38s 287us/sample - loss: 1.0320 - val_loss: 2.4360\n",
            "Epoch 21/30\n",
            "130560/130927 [============================>.] - ETA: 0s - loss: 0.9617\n",
            "Epoch 00021: val_loss did not improve from 2.35177\n",
            "130927/130927 [==============================] - 37s 286us/sample - loss: 0.9617 - val_loss: 2.4612\n",
            "Epoch 22/30\n",
            "130560/130927 [============================>.] - ETA: 0s - loss: 0.8962\n",
            "Epoch 00022: val_loss did not improve from 2.35177\n",
            "130927/130927 [==============================] - 38s 287us/sample - loss: 0.8962 - val_loss: 2.4804\n",
            "Epoch 23/30\n",
            "130560/130927 [============================>.] - ETA: 0s - loss: 0.8360\n",
            "Epoch 00023: val_loss did not improve from 2.35177\n",
            "130927/130927 [==============================] - 37s 285us/sample - loss: 0.8363 - val_loss: 2.5229\n",
            "Epoch 24/30\n",
            "130560/130927 [============================>.] - ETA: 0s - loss: 0.7807\n",
            "Epoch 00024: val_loss did not improve from 2.35177\n",
            "130927/130927 [==============================] - 37s 286us/sample - loss: 0.7808 - val_loss: 2.5334\n",
            "Epoch 25/30\n",
            "130560/130927 [============================>.] - ETA: 0s - loss: 0.7285\n",
            "Epoch 00025: val_loss did not improve from 2.35177\n",
            "130927/130927 [==============================] - 37s 286us/sample - loss: 0.7284 - val_loss: 2.5759\n",
            "Epoch 26/30\n",
            "130560/130927 [============================>.] - ETA: 0s - loss: 0.6791\n",
            "Epoch 00026: val_loss did not improve from 2.35177\n",
            "130927/130927 [==============================] - 37s 285us/sample - loss: 0.6791 - val_loss: 2.6019\n",
            "Epoch 27/30\n",
            "130560/130927 [============================>.] - ETA: 0s - loss: 0.6336\n",
            "Epoch 00027: val_loss did not improve from 2.35177\n",
            "130927/130927 [==============================] - 37s 285us/sample - loss: 0.6337 - val_loss: 2.6238\n",
            "Epoch 28/30\n",
            "130560/130927 [============================>.] - ETA: 0s - loss: 0.5925\n",
            "Epoch 00028: val_loss did not improve from 2.35177\n",
            "130927/130927 [==============================] - 37s 286us/sample - loss: 0.5929 - val_loss: 2.6641\n",
            "Epoch 29/30\n",
            "130560/130927 [============================>.] - ETA: 0s - loss: 0.5539\n",
            "Epoch 00029: val_loss did not improve from 2.35177\n",
            "130927/130927 [==============================] - 37s 285us/sample - loss: 0.5539 - val_loss: 2.7105\n",
            "Epoch 30/30\n",
            "130560/130927 [============================>.] - ETA: 0s - loss: 0.5171\n",
            "Epoch 00030: val_loss did not improve from 2.35177\n",
            "130927/130927 [==============================] - 37s 286us/sample - loss: 0.5172 - val_loss: 2.7329\n"
          ],
          "name": "stdout"
        }
      ]
    },
    {
      "cell_type": "code",
      "metadata": {
        "id": "3fYynd9TMSiN",
        "colab_type": "code",
        "colab": {
          "base_uri": "https://localhost:8080/",
          "height": 265
        },
        "outputId": "b4d7331a-d770-4263-dde2-ea92d88c33ac"
      },
      "source": [
        "plt.plot(history.history['loss'])\n",
        "plt.plot(history.history['val_loss'])\n",
        "plt.legend(['train','validation'])\n",
        "plt.show()"
      ],
      "execution_count": 23,
      "outputs": [
        {
          "output_type": "display_data",
          "data": {
            "image/png": "[encoded data removed]",
            "text/plain": [
              "<Figure size 432x288 with 1 Axes>"
            ]
          },
          "metadata": {
            "tags": []
          }
        }
      ]
    },
    {
      "cell_type": "code",
      "metadata": {
        "id": "QFPpadFxMhs5",
        "colab_type": "code",
        "colab": {}
      },
      "source": [
        "model = load_model('model.h1.09_02_19.h5')\n",
        "preds = model.predict_classes(testX.reshape((testX.shape[0],testX.shape[1])))"
      ],
      "execution_count": 0,
      "outputs": []
    },
    {
      "cell_type": "code",
      "metadata": {
        "id": "tX0N-X9cMoJY",
        "colab_type": "code",
        "colab": {}
      },
      "source": [
        "def get_word(n, tokenizer):\n",
        "  for word, index in tokenizer.word_index.items():\n",
        "    if index == n:\n",
        "      return word\n",
        "  return None"
      ],
      "execution_count": 0,
      "outputs": []
    },
    {
      "cell_type": "code",
      "metadata": {
        "id": "CPt5EHqjMrs_",
        "colab_type": "code",
        "colab": {}
      },
      "source": [
        "preds_text = []\n",
        "for i in preds:\n",
        "  temp = []\n",
        "  for j in range(len(i)):\n",
        "    t = get_word(i[j], eng_tokenizer)\n",
        "    if j > 0:\n",
        "      if (t == get_word(i[j-1], eng_tokenizer)) or (t == None):\n",
        "        temp.append('')\n",
        "      else:\n",
        "        temp.append(t)\n",
        "    else:\n",
        "      if(t == None):\n",
        "        temp.append('')\n",
        "      else:\n",
        "        temp.append(t) \n",
        "\n",
        "  preds_text.append(' '.join(temp))"
      ],
      "execution_count": 0,
      "outputs": []
    },
    {
      "cell_type": "code",
      "metadata": {
        "id": "gogx2ZxtM7Hi",
        "colab_type": "code",
        "colab": {}
      },
      "source": [
        "pred_df = pd.DataFrame({'actual' : test[:,0], 'predicted' : preds_text})"
      ],
      "execution_count": 0,
      "outputs": []
    },
    {
      "cell_type": "code",
      "metadata": {
        "id": "5D3wmgSZM9YU",
        "colab_type": "code",
        "colab": {
          "base_uri": "https://localhost:8080/",
          "height": 514
        },
        "outputId": "ba2d6695-dcc4-483e-f610-bcb2ca60a65d"
      },
      "source": [
        "# print 15 rows randomly\n",
        "pred_df.sample(15)"
      ],
      "execution_count": 28,
      "outputs": [
        {
          "output_type": "execute_result",
          "data": {
            "text/html": [
              "<div>\n",
              "<style scoped>\n",
              "    .dataframe tbody tr th:only-of-type {\n",
              "        vertical-align: middle;\n",
              "    }\n",
              "\n",
              "    .dataframe tbody tr th {\n",
              "        vertical-align: top;\n",
              "    }\n",
              "\n",
              "    .dataframe thead th {\n",
              "        text-align: right;\n",
              "    }\n",
              "</style>\n",
              "<table border=\"1\" class=\"dataframe\">\n",
              "  <thead>\n",
              "    <tr style=\"text-align: right;\">\n",
              "      <th></th>\n",
              "      <th>actual</th>\n",
              "      <th>predicted</th>\n",
              "    </tr>\n",
              "  </thead>\n",
              "  <tbody>\n",
              "    <tr>\n",
              "      <th>15911</th>\n",
              "      <td>a computer is an absolute necessity now</td>\n",
              "      <td>here are  examination for today</td>\n",
              "    </tr>\n",
              "    <tr>\n",
              "      <th>34174</th>\n",
              "      <td>i doubt that tom has the courage to do what really needs to be done</td>\n",
              "      <td>tom the   what to do</td>\n",
              "    </tr>\n",
              "    <tr>\n",
              "      <th>21969</th>\n",
              "      <td>tom is helping mary</td>\n",
              "      <td>tom helping mary</td>\n",
              "    </tr>\n",
              "    <tr>\n",
              "      <th>35742</th>\n",
              "      <td>you can read this book</td>\n",
              "      <td>you can read this book</td>\n",
              "    </tr>\n",
              "    <tr>\n",
              "      <th>11557</th>\n",
              "      <td>she gave him a good kick</td>\n",
              "      <td>she gave him a  there</td>\n",
              "    </tr>\n",
              "    <tr>\n",
              "      <th>37967</th>\n",
              "      <td>they hired tom</td>\n",
              "      <td>tom became been</td>\n",
              "    </tr>\n",
              "    <tr>\n",
              "      <th>18934</th>\n",
              "      <td>they didnt even know themselves</td>\n",
              "      <td>you didnt even  before</td>\n",
              "    </tr>\n",
              "    <tr>\n",
              "      <th>32938</th>\n",
              "      <td>tom teaches french to my children</td>\n",
              "      <td>tom teaches my   children</td>\n",
              "    </tr>\n",
              "    <tr>\n",
              "      <th>22722</th>\n",
              "      <td>tom was troubled by what happened</td>\n",
              "      <td>tom was about the what  happened</td>\n",
              "    </tr>\n",
              "    <tr>\n",
              "      <th>25676</th>\n",
              "      <td>are you certain youve made the right decision</td>\n",
              "      <td>are you sure youve wrong the  decision</td>\n",
              "    </tr>\n",
              "    <tr>\n",
              "      <th>11464</th>\n",
              "      <td>she is interested in music</td>\n",
              "      <td>she is long</td>\n",
              "    </tr>\n",
              "    <tr>\n",
              "      <th>9202</th>\n",
              "      <td>would you like to go to a movie</td>\n",
              "      <td>do you want to go the</td>\n",
              "    </tr>\n",
              "    <tr>\n",
              "      <th>33416</th>\n",
              "      <td>tom is likely to forget his promise</td>\n",
              "      <td>tom will  forget promise</td>\n",
              "    </tr>\n",
              "    <tr>\n",
              "      <th>14617</th>\n",
              "      <td>please add tom to the list</td>\n",
              "      <td>please write on   list</td>\n",
              "    </tr>\n",
              "    <tr>\n",
              "      <th>5493</th>\n",
              "      <td>tom often wears a fake wedding ring</td>\n",
              "      <td>tom has an  on</td>\n",
              "    </tr>\n",
              "  </tbody>\n",
              "</table>\n",
              "</div>"
            ],
            "text/plain": [
              "                                                                    actual                               predicted\n",
              "15911                              a computer is an absolute necessity now       here are  examination for today  \n",
              "34174  i doubt that tom has the courage to do what really needs to be done                   tom the   what to do \n",
              "21969                                                  tom is helping mary                   tom helping mary     \n",
              "35742                                               you can read this book               you can read this book   \n",
              "11557                                             she gave him a good kick                 she gave him a  there  \n",
              "37967                                                       they hired tom                    tom became been     \n",
              "18934                                      they didnt even know themselves               you didnt even  before   \n",
              "32938                                    tom teaches french to my children             tom teaches my   children  \n",
              "22722                                    tom was troubled by what happened       tom was about the what  happened \n",
              "25676                        are you certain youve made the right decision  are you sure youve wrong the  decision\n",
              "11464                                           she is interested in music                        she is long     \n",
              "9202                                       would you like to go to a movie                 do you want to go the  \n",
              "33416                                  tom is likely to forget his promise             tom will  forget promise   \n",
              "14617                                           please add tom to the list                please write on   list  \n",
              "5493                                   tom often wears a fake wedding ring                       tom has an  on   "
            ]
          },
          "metadata": {
            "tags": []
          },
          "execution_count": 28
        }
      ]
    }
  ]
}